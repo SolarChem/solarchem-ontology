{
 "cells": [
  {
   "cell_type": "code",
   "execution_count": null,
   "id": "97e4d8d2",
   "metadata": {},
   "outputs": [],
   "source": [
    "import rdflib\n",
    "import morph_kgc"
   ]
  },
  {
   "cell_type": "markdown",
   "id": "7d1c1b02",
   "metadata": {},
   "source": [
    "# Querying the Knowledge Graph\n",
    "\n",
    "Testing the KG and ontology with SPARQL built from the requirements and competency questions.\n",
    "\n",
    "\n",
    "|Identifier|Requirement or Competency Question                                                                                           |\n",
    "|----------|-----------------------------------------------------------------------------------------------------------------------------|\n",
    "|R1        |Articles have title, year, journal, issue, abstract, volume and author                                                       |\n",
    "|R2        |Each article may refer to one or more experiments                                                                            |\n",
    "|R3        |Each experiment must have a catalyst                                                                                         |\n",
    "|R4        |Each experiment may have additional inputs apart from the catalyst                                                           |\n",
    "|R5        |Each experiment must specify surface area and band gap                                                                       |\n",
    "|R6        |An experiment must indicate operation conditions, including temperature, pressure, reaction time, medium and operation mode  |\n",
    "|R7        |Photocatalysis experiments may also indicate type of reactor                                                                 |\n",
    "|R8        |Electrocatalysis and Photoelectrocatalysis experiments may also indicate electrochemical configuration                       |\n",
    "|R9        |Photocatalysis and Photoelectrocatalysis experiments must indicate the light source used, including type of light, lamp, wavelength, irradiance and power|\n",
    "|R10       |TiO2 catalysts must indicate crystal structure                                                                               |\n",
    "|R11       |Medium reaction must be either gas or liquid                                                                                 |\n",
    "|R12       |When reaction medium is liquid, the pH value must be indicated                                                               |\n",
    "|R13       |Operation modes must be either batch or continuous                                                                           |\n",
    "|R14       |When the operation mode is continuous, the spacial speed value must be indicated                                             |\n",
    "|R15       |Each experiment may have one or more outputs                                                                                 |\n",
    "|R16       |When the light source is not solar or solar simulation, the wavelength must be indicated                                     |\n",
    "|R17       |An experiment may provide conversion metrics, quantum efficiency metrics and electrochemical metrics                         |\n",
    "|CQ1       |How many experiments are reported per year?                                                                                  |\n",
    "|CQ2       |How many experiments are reported per country?                                                                               |\n",
    "|CQ3       |How many experiments are there per type of catalyst?                                                                         |\n",
    "|CQ4       |Which articles have been published in the ACS NANO Journal in 2018 in volume 229?                                            |\n",
    "|CQ5       |Which experiments use TiO2 as catalyst, liquid medium an produce H2 as output?                                               |\n",
    "|CQ6       |Which experiments use TiO2 as catalyst, liquid medium and produce the most H2 output in µmol/gh?                             |\n"
   ]
  },
  {
   "cell_type": "code",
   "execution_count": null,
   "id": "18a61877",
   "metadata": {},
   "outputs": [],
   "source": [
    "g = rdflib.Graph()\n",
    "g.parse(\"result/solarchem-kg.nt\")\n",
    "print(len(g))"
   ]
  }
 ],
 "metadata": {
  "kernelspec": {
   "display_name": "Python 3 (ipykernel)",
   "language": "python",
   "name": "python3"
  },
  "language_info": {
   "codemirror_mode": {
    "name": "ipython",
    "version": 3
   },
   "file_extension": ".py",
   "mimetype": "text/x-python",
   "name": "python",
   "nbconvert_exporter": "python",
   "pygments_lexer": "ipython3",
   "version": "3.9.16"
  }
 },
 "nbformat": 4,
 "nbformat_minor": 5
}
