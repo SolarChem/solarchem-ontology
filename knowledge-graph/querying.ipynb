{
 "cells": [
  {
   "cell_type": "code",
   "execution_count": 3,
   "id": "97e4d8d2",
   "metadata": {},
   "outputs": [],
   "source": [
    "import rdflib\n",
    "import morph_kgc"
   ]
  },
  {
   "cell_type": "markdown",
   "id": "7d1c1b02",
   "metadata": {},
   "source": [
    "# Querying the Knowledge Graph\n",
    "\n",
    "Testing the KG and ontology with SPARQL built from the requirements and competency questions.\n",
    "\n",
    "\n",
    "|Identifier|Requirement or Competency Question                                                                                           |\n",
    "|----------|-----------------------------------------------------------------------------------------------------------------------------|\n",
    "|R1        |Articles have title, year, journal, issue, abstract, volume and author                                                       |\n",
    "|R2        |Each article may refer to one or more experiments                                                                            |\n",
    "|R3        |Each experiment must have a catalyst                                                                                         |\n",
    "|R4        |Each experiment may have additional inputs apart from the catalyst                                                           |\n",
    "|R5        |Each experiment must specify surface area and band gap                                                                       |\n",
    "|R6        |An experiment must indicate operation conditions, including temperature, pressure, reaction time, medium and operation mode  |\n",
    "|R7        |Photocatalysis experiments may also indicate type of reactor                                                                 |\n",
    "|R8        |Electrocatalysis and Photoelectrocatalysis experiments may also indicate electrochemical configuration                       |\n",
    "|R9        |Photocatalysis and Photoelectrocatalysis experiments must indicate the light source used, including type of light, lamp, wavelength, irradiance and power|\n",
    "|R10       |TiO2 catalysts must indicate crystal structure                                                                               |\n",
    "|R11       |Medium reaction must be either gas or liquid                                                                                 |\n",
    "|R12       |When reaction medium is liquid, the pH value must be indicated                                                               |\n",
    "|R13       |Operation modes must be either batch or continuous                                                                           |\n",
    "|R14       |When the operation mode is continuous, the spacial speed value must be indicated                                             |\n",
    "|R15       |Each experiment may have one or more outputs                                                                                 |\n",
    "|R16       |When the light source is not solar or solar simulation, the wavelength must be indicated                                     |\n",
    "|R17       |An experiment may provide conversion metrics, quantum efficiency metrics and electrochemical metrics                         |\n",
    "|CQ1       |How many experiments are reported per year?                                                                                  |\n",
    "|CQ2       |How many experiments are reported per country?                                                                               |\n",
    "|CQ3       |How many experiments are there per type of catalyst?                                                                         |\n",
    "|CQ4       |Which articles have been published in the ACS NANO Journal in 2018 in volume 229?                                            |\n",
    "|CQ5       |Which experiments use TiO2 as catalyst, liquid medium an produce H2 as output?                                               |\n",
    "|CQ6       |Which experiments use TiO2 as catalyst, liquid medium and produce the most H2 output in µmol/gh?                             |\n"
   ]
  },
  {
   "cell_type": "code",
   "execution_count": 4,
   "id": "1d412604",
   "metadata": {},
   "outputs": [
    {
     "name": "stdout",
     "output_type": "stream",
     "text": [
      "1763831\n"
     ]
    }
   ],
   "source": [
    "g = rdflib.Graph()\n",
    "g.parse(\"result/solarchem-kg.nt\")\n",
    "print(len(g))"
   ]
  },
  {
   "cell_type": "markdown",
   "id": "1d3a2b0f",
   "metadata": {},
   "source": [
    "## R1: Articles have title, year, journal, issue, abstract, volume and author\n",
    "Pending refinement with SemOpenAlex"
   ]
  },
  {
   "cell_type": "code",
   "execution_count": 5,
   "id": "aebcd23e",
   "metadata": {},
   "outputs": [
    {
     "name": "stdout",
     "output_type": "stream",
     "text": [
      "Number of articles with all properties: 415\n"
     ]
    }
   ],
   "source": [
    "q_res = g.query(\"\"\"    \n",
    "    PREFIX bibo: <http://purl.org/ontology/bibo/>\n",
    "    PREFIX dc: <http://purl.org/dc/elements/1.1/>\n",
    "\n",
    "    SELECT (COUNT (DISTINCT ?article) AS ?count)\n",
    "    WHERE {\n",
    "        ?article a bibo:Article ;\n",
    "            bibo:doi ?doi ;\n",
    "            bibo:abstract ?abs ;\n",
    "            bibo:volume ?volume ;\n",
    "            dc:title ?title ;\n",
    "            bibo:issue ?issue ;\n",
    "            dc:date ?date ;\n",
    "            bibo:pageStart ?page .\n",
    "    }\n",
    "\n",
    "\"\"\")\n",
    "\n",
    "for row in q_res:\n",
    "    print(f\"Number of articles with all properties: {row['count'].value}\")"
   ]
  },
  {
   "cell_type": "markdown",
   "id": "51da83d5",
   "metadata": {},
   "source": [
    "## R2: Each article may refer to one or more experiments"
   ]
  },
  {
   "cell_type": "code",
   "execution_count": 6,
   "id": "6d184b38",
   "metadata": {},
   "outputs": [
    {
     "name": "stdout",
     "output_type": "stream",
     "text": [
      "Number of articles with experiments associated: 1096\n"
     ]
    }
   ],
   "source": [
    "q_res = g.query(\"\"\"    \n",
    "    PREFIX bibo: <http://purl.org/ontology/bibo/>\n",
    "    PREFIX dc: <http://purl.org/dc/elements/1.1/>\n",
    "    PREFIX solar: <http://w3id.org/solar/o/core#>\n",
    "\n",
    "    SELECT (COUNT (DISTINCT ?article) AS ?count)\n",
    "    WHERE {\n",
    "        ?article a bibo:Article ;\n",
    "            solar:hasExperimentExecution ?expexec .\n",
    "    }\n",
    "\n",
    "\"\"\")\n",
    "\n",
    "for row in q_res:\n",
    "    print(f\"Number of articles with experiments associated: {row['count'].value}\")"
   ]
  },
  {
   "cell_type": "markdown",
   "id": "8c0b6350",
   "metadata": {},
   "source": [
    "## R3: Each experiment must have a catalyst"
   ]
  },
  {
   "cell_type": "code",
   "execution_count": 30,
   "id": "85938940",
   "metadata": {},
   "outputs": [
    {
     "name": "stdout",
     "output_type": "stream",
     "text": [
      "http://w3id.org/solar/i/ExpExec/6028 WO3\n",
      "http://w3id.org/solar/i/ExpExec/4325 Ti-KIT-6\n",
      "http://w3id.org/solar/i/ExpExec/515 TiO2\n",
      "http://w3id.org/solar/i/ExpExec/4316 Ti-KIT-6\n",
      "http://w3id.org/solar/i/ExpExec/2911 TiO2\n",
      "http://w3id.org/solar/i/ExpExec/5587 g-C3N4\n",
      "http://w3id.org/solar/i/ExpExec/3211 g-C3N4\n",
      "http://w3id.org/solar/i/ExpExec/3848 BiOCl\n",
      "http://w3id.org/solar/i/ExpExec/5895 SiC\n",
      "http://w3id.org/solar/i/ExpExec/5488 TiO2\n"
     ]
    }
   ],
   "source": [
    "q_res = g.query(\"\"\"    \n",
    "    PREFIX bibo: <http://purl.org/ontology/bibo/>\n",
    "    PREFIX dc: <http://purl.org/dc/elements/1.1/>\n",
    "    PREFIX solar: <http://w3id.org/solar/o/core#>\n",
    "    PREFIX solarpc: <http://w3id.org/solar/o/pc#>\n",
    "    PREFIX rdfs: <http://www.w3.org/2000/01/rdf-schema#>\n",
    "    PREFIX qudt: <http://qudt.org/2.1/schema/qudt>\n",
    "\n",
    "    SELECT ?expexec ?catalyst\n",
    "    WHERE {\n",
    "        ?expexec prov:used ?input .\n",
    "        ?input a solar:Input ;\n",
    "            rdfs:label ?catalyst ;\n",
    "            solar:hasRole solar:Catalyst .\n",
    "    } LIMIT 10\n",
    "\n",
    "\"\"\")\n",
    "\n",
    "for row in q_res:\n",
    "    print(f\"{row.expexec} {row.catalyst}\")"
   ]
  },
  {
   "cell_type": "markdown",
   "id": "a73a3187",
   "metadata": {},
   "source": [
    "## R4: Each experiment may have additional inputs apart from the catalyst"
   ]
  },
  {
   "cell_type": "code",
   "execution_count": 31,
   "id": "ae80a1fd",
   "metadata": {},
   "outputs": [
    {
     "name": "stdout",
     "output_type": "stream",
     "text": [
      "http://w3id.org/solar/i/ExpExec/5126 [Ru(bpy)3]Cl2·6H2O http://w3id.org/solar/o/pc#Dye\n",
      "http://w3id.org/solar/i/ExpExec/2196 Ru(bpy) http://w3id.org/solar/o/pc#Dye\n",
      "http://w3id.org/solar/i/ExpExec/5991 [Ru(bpy)3]Cl2·6H2O http://w3id.org/solar/o/pc#Dye\n",
      "http://w3id.org/solar/i/ExpExec/2566 Ru-Ru(bypy) http://w3id.org/solar/o/pc#Dye\n",
      "http://w3id.org/solar/i/ExpExec/5476 [Ru(bpy)3]Cl2 http://w3id.org/solar/o/pc#Dye\n",
      "http://w3id.org/solar/i/ExpExec/5137 [Ru(bpy)3]Cl2·6H2O http://w3id.org/solar/o/pc#Dye\n",
      "http://w3id.org/solar/i/ExpExec/5858 [Ru(bpy)3]Cl2·6H2O http://w3id.org/solar/o/pc#Dye\n",
      "http://w3id.org/solar/i/ExpExec/6124 2,2-bipyridine http://w3id.org/solar/o/pc#Dye\n",
      "http://w3id.org/solar/i/ExpExec/1789 Ru(bpy) http://w3id.org/solar/o/pc#Dye\n",
      "http://w3id.org/solar/i/ExpExec/6286 RhB http://w3id.org/solar/o/pc#Dye\n"
     ]
    }
   ],
   "source": [
    "q_res = g.query(\"\"\"    \n",
    "    PREFIX bibo: <http://purl.org/ontology/bibo/>\n",
    "    PREFIX dc: <http://purl.org/dc/elements/1.1/>\n",
    "    PREFIX solar: <http://w3id.org/solar/o/core#>\n",
    "    PREFIX solarpc: <http://w3id.org/solar/o/pc#>\n",
    "    PREFIX rdfs: <http://www.w3.org/2000/01/rdf-schema#>\n",
    "    PREFIX qudt: <http://qudt.org/2.1/schema/qudt>\n",
    "\n",
    "    SELECT DISTINCT  ?expexec ?inputlabel ?role\n",
    "    WHERE {\n",
    "        ?expexec prov:used ?input .\n",
    "        ?input a solar:Input ;\n",
    "            rdfs:label ?inputlabel ;\n",
    "            solar:hasRole ?role .\n",
    "        FILTER(?role != solar:Catalyst)\n",
    "    } LIMIT 10\n",
    "\n",
    "\"\"\")\n",
    "\n",
    "for row in q_res:\n",
    "    print(f\"{row.expexec} {row.inputlabel} {row.role}\")"
   ]
  },
  {
   "cell_type": "markdown",
   "id": "eacdcb3f",
   "metadata": {},
   "source": [
    "## R5: Each experiment must specify surface area and band gap"
   ]
  },
  {
   "cell_type": "code",
   "execution_count": 32,
   "id": "f4a9de0e",
   "metadata": {},
   "outputs": [
    {
     "name": "stdout",
     "output_type": "stream",
     "text": [
      "http://w3id.org/solar/i/ExpExec/2939 Bandgap: 3.13 http://qudt.org/vocab/unit/EV | Surface area: 53.0 http://qudt.org/vocab/unit/M2-PER-GM\n",
      "http://w3id.org/solar/i/ExpExec/5568 Bandgap: 2.7 http://qudt.org/vocab/unit/EV | Surface area: 82.8 http://qudt.org/vocab/unit/M2-PER-GM\n",
      "http://w3id.org/solar/i/ExpExec/7715 Bandgap: 3.2 http://qudt.org/vocab/unit/EV | Surface area: 45.2 http://qudt.org/vocab/unit/M2-PER-GM\n",
      "http://w3id.org/solar/i/ExpExec/2413 Bandgap: 2.7 http://qudt.org/vocab/unit/EV | Surface area: 1149.4 http://qudt.org/vocab/unit/M2-PER-GM\n",
      "http://w3id.org/solar/i/ExpExec/2222 Bandgap: 3.4 http://qudt.org/vocab/unit/EV | Surface area: 240.0 http://qudt.org/vocab/unit/M2-PER-GM\n",
      "http://w3id.org/solar/i/ExpExec/2158 Bandgap: 3.2 http://qudt.org/vocab/unit/EV | Surface area: 46.9 http://qudt.org/vocab/unit/M2-PER-GM\n",
      "http://w3id.org/solar/i/ExpExec/2588 Bandgap: 1.5 http://qudt.org/vocab/unit/EV | Surface area: 92.71 http://qudt.org/vocab/unit/M2-PER-GM\n",
      "http://w3id.org/solar/i/ExpExec/1647 Bandgap: 3.2 http://qudt.org/vocab/unit/EV | Surface area: 42.98 http://qudt.org/vocab/unit/M2-PER-GM\n",
      "http://w3id.org/solar/i/ExpExec/6592 Bandgap: 2.78 http://qudt.org/vocab/unit/EV | Surface area: 517.53 http://qudt.org/vocab/unit/M2-PER-GM\n",
      "http://w3id.org/solar/i/ExpExec/5327 Bandgap: 3.0 http://qudt.org/vocab/unit/EV | Surface area: 4.79 http://qudt.org/vocab/unit/M2-PER-GM\n"
     ]
    }
   ],
   "source": [
    "q_res = g.query(\"\"\"    \n",
    "    PREFIX bibo: <http://purl.org/ontology/bibo/>\n",
    "    PREFIX dc: <http://purl.org/dc/elements/1.1/>\n",
    "    PREFIX solar: <http://w3id.org/solar/o/core#>\n",
    "    PREFIX solarpc: <http://w3id.org/solar/o/pc#>\n",
    "    PREFIX rdfs: <http://www.w3.org/2000/01/rdf-schema#>\n",
    "    PREFIX qudt: <http://qudt.org/2.1/schema/qudt>\n",
    "\n",
    "    SELECT DISTINCT ?expexec ?bgap ?bgapunit ?surfacearea ?saunit\n",
    "    WHERE {\n",
    "        ?expexec prov:used ?input .\n",
    "        ?input a solar:Input ;\n",
    "            solar:hasBandGap [ qudt:numericValue ?bgap; qudt:unit ?bgapunit ] ;\n",
    "            solar:hasSurfaceArea [ qudt:numericValue ?surfacearea; qudt:unit ?saunit ] .\n",
    "    } LIMIT 10\n",
    "\n",
    "\"\"\")\n",
    "\n",
    "for row in q_res:\n",
    "    print(f\"{row.expexec} Bandgap: {row.bgap} {row.bgapunit} | Surface area: {row.surfacearea} {row.saunit}\")"
   ]
  },
  {
   "cell_type": "markdown",
   "id": "6d7637a1",
   "metadata": {},
   "source": [
    "## R6: An experiment must indicate operation conditions, including temperature, pressure, reaction time, medium and operation mode\n",
    "Note: Medium and operation mode classes in onto, not in this KG's version"
   ]
  },
  {
   "cell_type": "code",
   "execution_count": 35,
   "id": "21d88c38",
   "metadata": {},
   "outputs": [
    {
     "name": "stdout",
     "output_type": "stream",
     "text": [
      "Number of articles with experiments associated: 6664\n"
     ]
    }
   ],
   "source": [
    "q_res = g.query(\"\"\"    \n",
    "    PREFIX bibo: <http://purl.org/ontology/bibo/>\n",
    "    PREFIX dc: <http://purl.org/dc/elements/1.1/>\n",
    "    PREFIX solar: <http://w3id.org/solar/o/core#>\n",
    "    PREFIX solarpc: <http://w3id.org/solar/o/pc#>\n",
    "    PREFIX qudt: <http://qudt.org/2.1/schema/qudt>\n",
    "\n",
    "    SELECT (COUNT (DISTINCT ?expexec) AS ?count)\n",
    "    WHERE {\n",
    "        ?expexec solar:hasCondition ?condition .\n",
    "        ?condition a ?condition_type .\n",
    "        VALUES ?condition_type {solar:TimeCondition solar:PressureCondition solar:TemperatureCondition}\n",
    "    }\n",
    "\"\"\")\n",
    "\n",
    "for row in q_res:\n",
    "    print(f\"Number of articles with conditions: {row['count'].value}\")"
   ]
  },
  {
   "cell_type": "markdown",
   "id": "cc484ab0",
   "metadata": {},
   "source": [
    "## R7: Photocatalysis experiments may also indicate type of reactor"
   ]
  },
  {
   "cell_type": "code",
   "execution_count": 37,
   "id": "3945e0a7",
   "metadata": {},
   "outputs": [
    {
     "name": "stdout",
     "output_type": "stream",
     "text": [
      "Number of articles with reactor conditions: 3835\n"
     ]
    }
   ],
   "source": [
    "q_res = g.query(\"\"\"    \n",
    "    PREFIX bibo: <http://purl.org/ontology/bibo/>\n",
    "    PREFIX dc: <http://purl.org/dc/elements/1.1/>\n",
    "    PREFIX solar: <http://w3id.org/solar/o/core#>\n",
    "    PREFIX solarpc: <http://w3id.org/solar/o/pc#>\n",
    "    PREFIX qudt: <http://qudt.org/2.1/schema/qudt>\n",
    "\n",
    "    SELECT (COUNT (DISTINCT ?expexec) AS ?count)\n",
    "    WHERE {\n",
    "        ?expexec solar:hasCondition ?condition .\n",
    "        ?condition a solarpc:ReactorCondition ; \n",
    "            solarpc:reactorVolume ?value .\n",
    "    }\n",
    "\"\"\")\n",
    "\n",
    "for row in q_res:\n",
    "    print(f\"Number of articles with reactor conditions: {row['count'].value}\")"
   ]
  },
  {
   "cell_type": "markdown",
   "id": "4398e9a8",
   "metadata": {},
   "source": [
    "## R8: Electrocatalysis and Photoelectrocatalysis experiments may also indicate electrochemical configuration\n",
    "No experiments so far with this condition, only from photocatalysis"
   ]
  },
  {
   "cell_type": "code",
   "execution_count": 38,
   "id": "59e4c0d5",
   "metadata": {},
   "outputs": [
    {
     "name": "stdout",
     "output_type": "stream",
     "text": [
      "Number of articles with electrochemical configuration: 0\n"
     ]
    }
   ],
   "source": [
    "q_res = g.query(\"\"\"    \n",
    "    PREFIX bibo: <http://purl.org/ontology/bibo/>\n",
    "    PREFIX dc: <http://purl.org/dc/elements/1.1/>\n",
    "    PREFIX solar: <http://w3id.org/solar/o/core#>\n",
    "    PREFIX solarpc: <http://w3id.org/solar/o/pc#>\n",
    "    PREFIX qudt: <http://qudt.org/2.1/schema/qudt>\n",
    "\n",
    "    SELECT (COUNT (DISTINCT ?expexec) AS ?count)\n",
    "    WHERE {\n",
    "        ?expexec solar:hasCondition ?condition .\n",
    "        ?condition a solar:ElectrochemicalConfiguration .\n",
    "    }\n",
    "\"\"\")\n",
    "\n",
    "for row in q_res:\n",
    "    print(f\"Number of articles with electrochemical configuration: {row['count'].value}\")"
   ]
  },
  {
   "cell_type": "markdown",
   "id": "f8522bae",
   "metadata": {},
   "source": [
    "## R9: Photocatalysis and Photoelectrocatalysis experiments must indicate the light source used, including type of light, lamp, wavelength, irradiance and power"
   ]
  },
  {
   "cell_type": "code",
   "execution_count": 46,
   "id": "dcfee16f",
   "metadata": {
    "scrolled": true
   },
   "outputs": [
    {
     "name": "stdout",
     "output_type": "stream",
     "text": [
      "http://w3id.org/solar/i/ExpExec/7417\n",
      "\tLamp: http://w3id.org/solar/o/core#XenonLamp\n",
      "\tWavelength: http://w3id.org/solar/o/core#400-780WL\n",
      "\tIrradiance: 2100.0\n",
      "\tPower: 300.0\n",
      "http://w3id.org/solar/i/ExpExec/5756\n",
      "\tLamp: http://w3id.org/solar/o/core#XenonLamp\n",
      "\tWavelength: http://w3id.org/solar/o/core#400-780WL\n",
      "\tIrradiance: 1500.0\n",
      "\tPower: 450.0\n",
      "http://w3id.org/solar/i/ExpExec/7088\n",
      "\tLamp: http://w3id.org/solar/o/core#XenonLamp\n",
      "\tWavelength: http://w3id.org/solar/o/core#400-780WL\n",
      "\tIrradiance: 1000.0\n",
      "\tPower: 300.0\n",
      "http://w3id.org/solar/i/ExpExec/5029\n",
      "\tLamp: http://w3id.org/solar/o/core#XenonLamp\n",
      "\tWavelength: http://w3id.org/solar/o/core#315-780WL\n",
      "\tIrradiance: 11000.0\n",
      "\tPower: 251.0\n",
      "http://w3id.org/solar/i/ExpExec/549\n",
      "\tLamp: http://w3id.org/solar/o/core#XenonLamp\n",
      "\tWavelength: http://w3id.org/solar/o/core#192-280WL\n",
      "\tIrradiance: 196.0\n",
      "\tPower: 400.0\n"
     ]
    }
   ],
   "source": [
    "q_res = g.query(\"\"\"    \n",
    "    PREFIX bibo: <http://purl.org/ontology/bibo/>\n",
    "    PREFIX dc: <http://purl.org/dc/elements/1.1/>\n",
    "    PREFIX solar: <http://w3id.org/solar/o/core#>\n",
    "    PREFIX solarpc: <http://w3id.org/solar/o/pc#>\n",
    "    PREFIX qudt: <http://qudt.org/2.1/schema/qudt>\n",
    "    PREFIX obi: <http://purl.obolibrary.org/obo/OBI_>\n",
    "\n",
    "    SELECT DISTINCT ?expexec ?lamp ?wl ?irradiance ?power \n",
    "    WHERE {\n",
    "        ?expexec solar:hasLightSource ?light_source.\n",
    "        ?light_source a obi:0400065 ;\n",
    "            solar:hasLamp ?lamp ;\n",
    "            solar:hasWavelength ?wl ;\n",
    "            solar:hasIrradiance [qudt:numericValue ?irradiance] ;\n",
    "            solar:hasPower [qudt:numericValue ?power] .\n",
    "            \n",
    "    } LIMIT 5\n",
    "\"\"\")\n",
    "\n",
    "for row in q_res:\n",
    "    print(f\"{row.expexec}\\n\\tLamp: {row.lamp}\\n\\tWavelength: {row.wl}\\n\\tIrradiance: {row.irradiance}\\n\\tPower: {row.power}\")"
   ]
  },
  {
   "cell_type": "markdown",
   "id": "591c3737",
   "metadata": {},
   "source": [
    "## R10: TiO2 catalysts must indicate crystal structure"
   ]
  },
  {
   "cell_type": "code",
   "execution_count": 47,
   "id": "ae2dba48",
   "metadata": {},
   "outputs": [
    {
     "name": "stdout",
     "output_type": "stream",
     "text": [
      "http://w3id.org/solar/i/Input/Catalyst/2828-TiO2  Anatase\n",
      "http://w3id.org/solar/i/Input/Catalyst/4612-TiO2  Anatase\n",
      "http://w3id.org/solar/i/Input/Catalyst/2063-TiO2  Anatase\n",
      "http://w3id.org/solar/i/Input/Catalyst/201-TiO2  P25\n",
      "http://w3id.org/solar/i/Input/Catalyst/5111-TiO2  P25\n",
      "http://w3id.org/solar/i/Input/Catalyst/315-TiO2  P25\n",
      "http://w3id.org/solar/i/Input/Catalyst/319-TiO2  Anatase\n",
      "http://w3id.org/solar/i/Input/Catalyst/6173-TiO2  Anatase\n",
      "http://w3id.org/solar/i/Input/Catalyst/446-TiO2  Mix\n",
      "http://w3id.org/solar/i/Input/Catalyst/5022-TiO2  Anatase\n"
     ]
    }
   ],
   "source": [
    "q_res = g.query(\"\"\"    \n",
    "    PREFIX bibo: <http://purl.org/ontology/bibo/>\n",
    "    PREFIX dc: <http://purl.org/dc/elements/1.1/>\n",
    "    PREFIX solar: <http://w3id.org/solar/o/core#>\n",
    "    PREFIX solarpc: <http://w3id.org/solar/o/pc#>\n",
    "    PREFIX rdfs: <http://www.w3.org/2000/01/rdf-schema#>\n",
    "    PREFIX qudt: <http://qudt.org/2.1/schema/qudt>\n",
    "\n",
    "    SELECT ?input ?crystal_str\n",
    "    WHERE {\n",
    "        ?input a solar:Input ;\n",
    "            rdfs:label \"TiO2\" ;\n",
    "            solar:hasRole solar:Catalyst ;\n",
    "            solar:crystalStructure ?crystal_str .\n",
    "    } LIMIT 10\n",
    "\n",
    "\"\"\")\n",
    "\n",
    "for row in q_res:\n",
    "    print(f\"{row.input}  {row.crystal_str}\")"
   ]
  },
  {
   "cell_type": "markdown",
   "id": "6594d172",
   "metadata": {},
   "source": [
    "## R11: Medium reaction must be either gas or liquid\n",
    "When merged with the ontology"
   ]
  },
  {
   "cell_type": "markdown",
   "id": "42339915",
   "metadata": {},
   "source": [
    "## R12: When reaction medium is liquid, the pH value must be indicated"
   ]
  },
  {
   "cell_type": "code",
   "execution_count": 52,
   "id": "11ecfee2",
   "metadata": {},
   "outputs": [
    {
     "name": "stdout",
     "output_type": "stream",
     "text": [
      "http://w3id.org/solar/i/ExpExec/3277 pH: 2.0\n",
      "http://w3id.org/solar/i/ExpExec/5059 pH: 7.0\n",
      "http://w3id.org/solar/i/ExpExec/6435 pH: 7.0\n",
      "http://w3id.org/solar/i/ExpExec/5137 pH: 7.0\n",
      "http://w3id.org/solar/i/ExpExec/3282 pH: 10.0\n",
      "http://w3id.org/solar/i/ExpExec/4893 pH: 7.0\n",
      "http://w3id.org/solar/i/ExpExec/6377 pH: 7.0\n",
      "http://w3id.org/solar/i/ExpExec/6296 pH: 1.0\n",
      "http://w3id.org/solar/i/ExpExec/5188 pH: 7.0\n",
      "http://w3id.org/solar/i/ExpExec/5057 pH: 7.0\n"
     ]
    }
   ],
   "source": [
    "q_res = g.query(\"\"\"    \n",
    "    PREFIX bibo: <http://purl.org/ontology/bibo/>\n",
    "    PREFIX dc: <http://purl.org/dc/elements/1.1/>\n",
    "    PREFIX solar: <http://w3id.org/solar/o/core#>\n",
    "    PREFIX solarpc: <http://w3id.org/solar/o/pc#>\n",
    "    PREFIX qudt: <http://qudt.org/2.1/schema/qudt>\n",
    "\n",
    "    SELECT ?expexec ?ph\n",
    "    WHERE {\n",
    "        ?expexec solar:hasCondition solar:LiquidMedium ;\n",
    "            solar:hasCondition ?ph_cond .\n",
    "        ?ph_cond a solar:pHCondition ;\n",
    "            qudt:numericValue ?ph .\n",
    "    } LIMIT 10\n",
    "\"\"\")\n",
    "\n",
    "for row in q_res:\n",
    "    print(f\"{row.expexec} pH: {row.ph}\")"
   ]
  },
  {
   "cell_type": "markdown",
   "id": "03f36e75",
   "metadata": {},
   "source": [
    "## R13: Operation modes must be either batch or continuous\n",
    "When merged with the ontology"
   ]
  },
  {
   "cell_type": "markdown",
   "id": "9f54d3d7",
   "metadata": {},
   "source": [
    "## R14: When the operation mode is continuous, the spacial speed value must be indicated\n",
    "Not found in data?"
   ]
  },
  {
   "cell_type": "code",
   "execution_count": null,
   "id": "3a0b5396",
   "metadata": {},
   "outputs": [],
   "source": []
  }
 ],
 "metadata": {
  "kernelspec": {
   "display_name": "Python 3 (ipykernel)",
   "language": "python",
   "name": "python3"
  },
  "language_info": {
   "codemirror_mode": {
    "name": "ipython",
    "version": 3
   },
   "file_extension": ".py",
   "mimetype": "text/x-python",
   "name": "python",
   "nbconvert_exporter": "python",
   "pygments_lexer": "ipython3",
   "version": "3.9.16"
  }
 },
 "nbformat": 4,
 "nbformat_minor": 5
}
