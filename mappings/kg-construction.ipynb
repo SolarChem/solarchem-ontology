{
 "cells": [
  {
   "cell_type": "code",
   "execution_count": 13,
   "id": "54252c49",
   "metadata": {},
   "outputs": [],
   "source": [
    "import rdflib"
   ]
  },
  {
   "cell_type": "markdown",
   "id": "d417160c",
   "metadata": {},
   "source": [
    "# Construction, enrichment and evaluation of the Solarchem Knowledge Graph"
   ]
  },
  {
   "cell_type": "markdown",
   "id": "711b3f91",
   "metadata": {},
   "source": [
    "## Quick cleaning\n",
    "Deleting fields that should be empty"
   ]
  },
  {
   "cell_type": "code",
   "execution_count": 38,
   "id": "b620756a",
   "metadata": {},
   "outputs": [],
   "source": [
    "!sed 's/\"N\\/A\"//g' data/raw-catalystsdata.csv | sed 's/\"-1\"//g' | sed 's/\"n\\/a\"//g' | sed 's/\"-1.00\"//g' | sed 's/\"-1.0\"//g' | sed 's/\"0.00\"//g' > data/catalystsdata.csv"
   ]
  },
  {
   "cell_type": "markdown",
   "id": "c27ed78f",
   "metadata": {},
   "source": [
    "## Mapping generation\n",
    "Running Mapeathor to create the mapping file in YARRRML"
   ]
  },
  {
   "cell_type": "code",
   "execution_count": 116,
   "id": "6d1c8059",
   "metadata": {},
   "outputs": [
    {
     "name": "stdout",
     "output_type": "stream",
     "text": [
      "Generating mapping file\n",
      "WARNING: datatype not recognized (gYear), check XSD datatypes\n",
      "Your mapping file is in solarchem-mapping.yml\n"
     ]
    }
   ],
   "source": [
    "!python -m mapeathor -i solarchem-mapping.xlsx -l yarrrml -o solarchem-mapping.yml"
   ]
  },
  {
   "cell_type": "markdown",
   "id": "7a5062a2",
   "metadata": {},
   "source": [
    "## KG construction\n",
    "Running Morph-KGC to construct the KG with the mapping generated in the previous step and the data in `./data`."
   ]
  },
  {
   "cell_type": "code",
   "execution_count": 117,
   "id": "574c43ec",
   "metadata": {
    "scrolled": true
   },
   "outputs": [
    {
     "name": "stdout",
     "output_type": "stream",
     "text": [
      "/Users/aiglesias/miniconda3/envs/kgc/lib/python3.9/site-packages/morph_kgc/mapping/mapping_parser.py:390: FutureWarning: DataFrame.applymap has been deprecated. Use DataFrame.map instead.\n",
      "  fnml_df = fnml_df.applymap(str)\n",
      "INFO | 2024-03-22 19:10:38,775 | 47 mapping rules retrieved.\n",
      "/Users/aiglesias/miniconda3/envs/kgc/lib/python3.9/site-packages/morph_kgc/mapping/mapping_parser.py:485: FutureWarning: Downcasting behavior in `replace` is deprecated and will be removed in a future version. To retain the old behavior, explicitly call `result.infer_objects(copy=False)`. To opt-in to the future behavior, set `pd.set_option('future.no_silent_downcasting', True)`\n",
      "  self.rml_df = self.rml_df.replace(r'^\\s*$', np.nan, regex=True)\n",
      "INFO | 2024-03-22 19:10:38,807 | Mapping partition with 37 groups generated.\n",
      "/Users/aiglesias/miniconda3/envs/kgc/lib/python3.9/site-packages/morph_kgc/mapping/mapping_partitioner.py:182: FutureWarning: Series.__getitem__ treating keys as positions is deprecated. In a future version, integer keys will always be treated as labels (consistent with DataFrame behavior). To access a value by position, use `ser.iloc[pos]`\n",
      "  f\"{self.rml_df['mapping_partition'].value_counts()[0]}.\")\n",
      "INFO | 2024-03-22 19:10:38,808 | Maximum number of rules within mapping group: 3.\n",
      "INFO | 2024-03-22 19:10:38,808 | Mappings processed in 1.044 seconds.\n",
      "/Users/aiglesias/miniconda3/envs/kgc/lib/python3.9/site-packages/morph_kgc/materializer.py:36: FutureWarning: DataFrame.applymap has been deprecated. Use DataFrame.map instead.\n",
      "  data = data.applymap(str)\n",
      "/Users/aiglesias/miniconda3/envs/kgc/lib/python3.9/site-packages/morph_kgc/materializer.py:36: FutureWarning: DataFrame.applymap has been deprecated. Use DataFrame.map instead.\n",
      "  data = data.applymap(str)\n",
      "/Users/aiglesias/miniconda3/envs/kgc/lib/python3.9/site-packages/morph_kgc/materializer.py:36: FutureWarning: DataFrame.applymap has been deprecated. Use DataFrame.map instead.\n",
      "  data = data.applymap(str)\n",
      "/Users/aiglesias/miniconda3/envs/kgc/lib/python3.9/site-packages/morph_kgc/materializer.py:36: FutureWarning: DataFrame.applymap has been deprecated. Use DataFrame.map instead.\n",
      "  data = data.applymap(str)\n",
      "/Users/aiglesias/miniconda3/envs/kgc/lib/python3.9/site-packages/morph_kgc/materializer.py:36: FutureWarning: DataFrame.applymap has been deprecated. Use DataFrame.map instead.\n",
      "  data = data.applymap(str)\n",
      "/Users/aiglesias/miniconda3/envs/kgc/lib/python3.9/site-packages/morph_kgc/materializer.py:36: FutureWarning: DataFrame.applymap has been deprecated. Use DataFrame.map instead.\n",
      "  data = data.applymap(str)\n",
      "/Users/aiglesias/miniconda3/envs/kgc/lib/python3.9/site-packages/morph_kgc/materializer.py:36: FutureWarning: DataFrame.applymap has been deprecated. Use DataFrame.map instead.\n",
      "  data = data.applymap(str)\n",
      "/Users/aiglesias/miniconda3/envs/kgc/lib/python3.9/site-packages/morph_kgc/materializer.py:36: FutureWarning: DataFrame.applymap has been deprecated. Use DataFrame.map instead.\n",
      "  data = data.applymap(str)\n",
      "/Users/aiglesias/miniconda3/envs/kgc/lib/python3.9/site-packages/morph_kgc/materializer.py:36: FutureWarning: DataFrame.applymap has been deprecated. Use DataFrame.map instead.\n",
      "  data = data.applymap(str)\n",
      "/Users/aiglesias/miniconda3/envs/kgc/lib/python3.9/site-packages/morph_kgc/materializer.py:36: FutureWarning: DataFrame.applymap has been deprecated. Use DataFrame.map instead.\n",
      "  data = data.applymap(str)\n",
      "/Users/aiglesias/miniconda3/envs/kgc/lib/python3.9/site-packages/morph_kgc/materializer.py:36: FutureWarning: DataFrame.applymap has been deprecated. Use DataFrame.map instead.\n",
      "  data = data.applymap(str)\n",
      "/Users/aiglesias/miniconda3/envs/kgc/lib/python3.9/site-packages/morph_kgc/materializer.py:36: FutureWarning: DataFrame.applymap has been deprecated. Use DataFrame.map instead.\n",
      "  data = data.applymap(str)\n",
      "/Users/aiglesias/miniconda3/envs/kgc/lib/python3.9/site-packages/morph_kgc/materializer.py:36: FutureWarning: DataFrame.applymap has been deprecated. Use DataFrame.map instead.\n",
      "  data = data.applymap(str)\n",
      "/Users/aiglesias/miniconda3/envs/kgc/lib/python3.9/site-packages/morph_kgc/materializer.py:36: FutureWarning: DataFrame.applymap has been deprecated. Use DataFrame.map instead.\n",
      "  data = data.applymap(str)\n",
      "/Users/aiglesias/miniconda3/envs/kgc/lib/python3.9/site-packages/morph_kgc/materializer.py:36: FutureWarning: DataFrame.applymap has been deprecated. Use DataFrame.map instead.\n",
      "  data = data.applymap(str)\n",
      "/Users/aiglesias/miniconda3/envs/kgc/lib/python3.9/site-packages/morph_kgc/materializer.py:36: FutureWarning: DataFrame.applymap has been deprecated. Use DataFrame.map instead.\n",
      "  data = data.applymap(str)\n",
      "/Users/aiglesias/miniconda3/envs/kgc/lib/python3.9/site-packages/morph_kgc/materializer.py:36: FutureWarning: DataFrame.applymap has been deprecated. Use DataFrame.map instead.\n",
      "  data = data.applymap(str)\n",
      "/Users/aiglesias/miniconda3/envs/kgc/lib/python3.9/site-packages/morph_kgc/materializer.py:36: FutureWarning: DataFrame.applymap has been deprecated. Use DataFrame.map instead.\n",
      "  data = data.applymap(str)\n",
      "/Users/aiglesias/miniconda3/envs/kgc/lib/python3.9/site-packages/morph_kgc/materializer.py:36: FutureWarning: DataFrame.applymap has been deprecated. Use DataFrame.map instead.\n",
      "  data = data.applymap(str)\n",
      "/Users/aiglesias/miniconda3/envs/kgc/lib/python3.9/site-packages/morph_kgc/materializer.py:36: FutureWarning: DataFrame.applymap has been deprecated. Use DataFrame.map instead.\n",
      "  data = data.applymap(str)\n",
      "/Users/aiglesias/miniconda3/envs/kgc/lib/python3.9/site-packages/morph_kgc/materializer.py:36: FutureWarning: DataFrame.applymap has been deprecated. Use DataFrame.map instead.\n",
      "  data = data.applymap(str)\n",
      "/Users/aiglesias/miniconda3/envs/kgc/lib/python3.9/site-packages/morph_kgc/materializer.py:36: FutureWarning: DataFrame.applymap has been deprecated. Use DataFrame.map instead.\n",
      "  data = data.applymap(str)\n",
      "/Users/aiglesias/miniconda3/envs/kgc/lib/python3.9/site-packages/morph_kgc/materializer.py:36: FutureWarning: DataFrame.applymap has been deprecated. Use DataFrame.map instead.\n",
      "  data = data.applymap(str)\n",
      "/Users/aiglesias/miniconda3/envs/kgc/lib/python3.9/site-packages/morph_kgc/materializer.py:36: FutureWarning: DataFrame.applymap has been deprecated. Use DataFrame.map instead.\n",
      "  data = data.applymap(str)\n",
      "/Users/aiglesias/miniconda3/envs/kgc/lib/python3.9/site-packages/morph_kgc/materializer.py:36: FutureWarning: DataFrame.applymap has been deprecated. Use DataFrame.map instead.\n",
      "  data = data.applymap(str)\n",
      "/Users/aiglesias/miniconda3/envs/kgc/lib/python3.9/site-packages/morph_kgc/materializer.py:36: FutureWarning: DataFrame.applymap has been deprecated. Use DataFrame.map instead.\n",
      "  data = data.applymap(str)\n",
      "/Users/aiglesias/miniconda3/envs/kgc/lib/python3.9/site-packages/morph_kgc/materializer.py:36: FutureWarning: DataFrame.applymap has been deprecated. Use DataFrame.map instead.\n",
      "  data = data.applymap(str)\n",
      "/Users/aiglesias/miniconda3/envs/kgc/lib/python3.9/site-packages/morph_kgc/materializer.py:36: FutureWarning: DataFrame.applymap has been deprecated. Use DataFrame.map instead.\n",
      "  data = data.applymap(str)\n",
      "/Users/aiglesias/miniconda3/envs/kgc/lib/python3.9/site-packages/morph_kgc/materializer.py:36: FutureWarning: DataFrame.applymap has been deprecated. Use DataFrame.map instead.\n",
      "  data = data.applymap(str)\n",
      "/Users/aiglesias/miniconda3/envs/kgc/lib/python3.9/site-packages/morph_kgc/materializer.py:36: FutureWarning: DataFrame.applymap has been deprecated. Use DataFrame.map instead.\n",
      "  data = data.applymap(str)\n",
      "/Users/aiglesias/miniconda3/envs/kgc/lib/python3.9/site-packages/morph_kgc/materializer.py:36: FutureWarning: DataFrame.applymap has been deprecated. Use DataFrame.map instead.\n",
      "  data = data.applymap(str)\n",
      "/Users/aiglesias/miniconda3/envs/kgc/lib/python3.9/site-packages/morph_kgc/materializer.py:36: FutureWarning: DataFrame.applymap has been deprecated. Use DataFrame.map instead.\n",
      "  data = data.applymap(str)\n",
      "/Users/aiglesias/miniconda3/envs/kgc/lib/python3.9/site-packages/morph_kgc/materializer.py:36: FutureWarning: DataFrame.applymap has been deprecated. Use DataFrame.map instead.\n",
      "  data = data.applymap(str)\n",
      "/Users/aiglesias/miniconda3/envs/kgc/lib/python3.9/site-packages/morph_kgc/materializer.py:36: FutureWarning: DataFrame.applymap has been deprecated. Use DataFrame.map instead.\n",
      "  data = data.applymap(str)\n",
      "/Users/aiglesias/miniconda3/envs/kgc/lib/python3.9/site-packages/morph_kgc/materializer.py:36: FutureWarning: DataFrame.applymap has been deprecated. Use DataFrame.map instead.\n",
      "  data = data.applymap(str)\n",
      "/Users/aiglesias/miniconda3/envs/kgc/lib/python3.9/site-packages/morph_kgc/materializer.py:36: FutureWarning: DataFrame.applymap has been deprecated. Use DataFrame.map instead.\n",
      "  data = data.applymap(str)\n",
      "/Users/aiglesias/miniconda3/envs/kgc/lib/python3.9/site-packages/morph_kgc/materializer.py:36: FutureWarning: DataFrame.applymap has been deprecated. Use DataFrame.map instead.\n",
      "  data = data.applymap(str)\n"
     ]
    },
    {
     "name": "stdout",
     "output_type": "stream",
     "text": [
      "/Users/aiglesias/miniconda3/envs/kgc/lib/python3.9/site-packages/morph_kgc/materializer.py:36: FutureWarning: DataFrame.applymap has been deprecated. Use DataFrame.map instead.\n",
      "  data = data.applymap(str)\n",
      "/Users/aiglesias/miniconda3/envs/kgc/lib/python3.9/site-packages/morph_kgc/materializer.py:36: FutureWarning: DataFrame.applymap has been deprecated. Use DataFrame.map instead.\n",
      "  data = data.applymap(str)\n",
      "/Users/aiglesias/miniconda3/envs/kgc/lib/python3.9/site-packages/morph_kgc/materializer.py:36: FutureWarning: DataFrame.applymap has been deprecated. Use DataFrame.map instead.\n",
      "  data = data.applymap(str)\n",
      "/Users/aiglesias/miniconda3/envs/kgc/lib/python3.9/site-packages/morph_kgc/materializer.py:36: FutureWarning: DataFrame.applymap has been deprecated. Use DataFrame.map instead.\n",
      "  data = data.applymap(str)\n",
      "/Users/aiglesias/miniconda3/envs/kgc/lib/python3.9/site-packages/morph_kgc/materializer.py:36: FutureWarning: DataFrame.applymap has been deprecated. Use DataFrame.map instead.\n",
      "  data = data.applymap(str)\n",
      "/Users/aiglesias/miniconda3/envs/kgc/lib/python3.9/site-packages/morph_kgc/materializer.py:36: FutureWarning: DataFrame.applymap has been deprecated. Use DataFrame.map instead.\n",
      "  data = data.applymap(str)\n",
      "/Users/aiglesias/miniconda3/envs/kgc/lib/python3.9/site-packages/morph_kgc/materializer.py:36: FutureWarning: DataFrame.applymap has been deprecated. Use DataFrame.map instead.\n",
      "  data = data.applymap(str)\n",
      "/Users/aiglesias/miniconda3/envs/kgc/lib/python3.9/site-packages/morph_kgc/materializer.py:36: FutureWarning: DataFrame.applymap has been deprecated. Use DataFrame.map instead.\n",
      "  data = data.applymap(str)\n",
      "/Users/aiglesias/miniconda3/envs/kgc/lib/python3.9/site-packages/morph_kgc/materializer.py:36: FutureWarning: DataFrame.applymap has been deprecated. Use DataFrame.map instead.\n",
      "  data = data.applymap(str)\n",
      "/Users/aiglesias/miniconda3/envs/kgc/lib/python3.9/site-packages/morph_kgc/materializer.py:36: FutureWarning: DataFrame.applymap has been deprecated. Use DataFrame.map instead.\n",
      "  data = data.applymap(str)\n",
      "/Users/aiglesias/miniconda3/envs/kgc/lib/python3.9/site-packages/morph_kgc/materializer.py:36: FutureWarning: DataFrame.applymap has been deprecated. Use DataFrame.map instead.\n",
      "  data = data.applymap(str)\n",
      "INFO | 2024-03-22 19:10:42,803 | Number of triples generated in total: 88873.\n",
      "INFO | 2024-03-22 19:10:42,803 | Materialization finished in 3.992 seconds.\n"
     ]
    }
   ],
   "source": [
    "!python -m morph_kgc config.ini"
   ]
  },
  {
   "cell_type": "markdown",
   "id": "3545eb76",
   "metadata": {},
   "source": [
    "## KG validation\n",
    "Quick validation to check that the KG is being generated with all the needed properties of the ontology."
   ]
  },
  {
   "cell_type": "code",
   "execution_count": 118,
   "id": "a99f1b15",
   "metadata": {},
   "outputs": [
    {
     "name": "stdout",
     "output_type": "stream",
     "text": [
      "88873\n"
     ]
    }
   ],
   "source": [
    "g = rdflib.Graph()\n",
    "g.parse(\"solarchem.nt\")\n",
    "print(len(g))"
   ]
  },
  {
   "cell_type": "markdown",
   "id": "f58d2bd8",
   "metadata": {},
   "source": [
    "### Articles"
   ]
  },
  {
   "cell_type": "code",
   "execution_count": 44,
   "id": "0e08e9e1",
   "metadata": {},
   "outputs": [
    {
     "name": "stdout",
     "output_type": "stream",
     "text": [
      "Number of articles: 1268\n"
     ]
    }
   ],
   "source": [
    "q_res = g.query(\"\"\"    \n",
    "    PREFIX bibo: <http://purl.org/ontology/bibo/>\n",
    "\n",
    "    SELECT (COUNT (DISTINCT ?article) AS ?count)\n",
    "    WHERE {\n",
    "        ?article a bibo:Article .\n",
    "    }\n",
    "\n",
    "\"\"\")\n",
    "\n",
    "for row in q_res:\n",
    "    print(f\"Number of articles: {row['count'].value}\")"
   ]
  },
  {
   "cell_type": "code",
   "execution_count": 45,
   "id": "cabe291d",
   "metadata": {},
   "outputs": [
    {
     "name": "stdout",
     "output_type": "stream",
     "text": [
      "Number of articles with all properties: 421\n"
     ]
    }
   ],
   "source": [
    "q_res = g.query(\"\"\"    \n",
    "    PREFIX bibo: <http://purl.org/ontology/bibo/>\n",
    "    PREFIX dc: <http://purl.org/dc/elements/1.1/>\n",
    "\n",
    "    SELECT (COUNT (DISTINCT ?article) AS ?count)\n",
    "    WHERE {\n",
    "        ?article a bibo:Article ;\n",
    "            bibo:doi ?doi ;\n",
    "            bibo:abstract ?abs ;\n",
    "            bibo:volume ?volume ;\n",
    "            dc:title ?title ;\n",
    "            bibo:issue ?issue ;\n",
    "            dc:date ?date ;\n",
    "            bibo:pageStart ?page .\n",
    "    }\n",
    "\n",
    "\"\"\")\n",
    "\n",
    "for row in q_res:\n",
    "    print(f\"Number of articles with all properties: {row['count'].value}\")"
   ]
  },
  {
   "cell_type": "code",
   "execution_count": 46,
   "id": "13255c39",
   "metadata": {},
   "outputs": [
    {
     "name": "stdout",
     "output_type": "stream",
     "text": [
      "Number of articles with experiments associated: 1096\n"
     ]
    }
   ],
   "source": [
    "q_res = g.query(\"\"\"    \n",
    "    PREFIX bibo: <http://purl.org/ontology/bibo/>\n",
    "    PREFIX dc: <http://purl.org/dc/elements/1.1/>\n",
    "    PREFIX solar: <http://w3id.org/solar/o/core#>\n",
    "\n",
    "    SELECT (COUNT (DISTINCT ?article) AS ?count)\n",
    "    WHERE {\n",
    "        ?article a bibo:Article ;\n",
    "            solar:hasExperimentExecution ?expexec .\n",
    "    }\n",
    "\n",
    "\"\"\")\n",
    "\n",
    "for row in q_res:\n",
    "    print(f\"Number of articles with experiments associated: {row['count'].value}\")"
   ]
  },
  {
   "cell_type": "markdown",
   "id": "db913ecd",
   "metadata": {},
   "source": [
    "### Experiment Executions"
   ]
  },
  {
   "cell_type": "code",
   "execution_count": 75,
   "id": "14d679fe",
   "metadata": {},
   "outputs": [
    {
     "name": "stdout",
     "output_type": "stream",
     "text": [
      "Number of experiments: 9704\n"
     ]
    }
   ],
   "source": [
    "q_res = g.query(\"\"\"    \n",
    "    PREFIX bibo: <http://purl.org/ontology/bibo/>\n",
    "    PREFIX dc: <http://purl.org/dc/elements/1.1/>\n",
    "    PREFIX solar: <http://w3id.org/solar/o/core#>\n",
    "\n",
    "    SELECT (COUNT (DISTINCT ?input) AS ?count)\n",
    "    WHERE {\n",
    "        ?expexec a solar:ExperimentExecution ;\n",
    "            prov:used ?input .\n",
    "    }\n",
    "\n",
    "\"\"\")\n",
    "\n",
    "for row in q_res:\n",
    "    print(f\"Number of experiments: {row['count'].value}\")"
   ]
  },
  {
   "cell_type": "markdown",
   "id": "42076447",
   "metadata": {},
   "source": [
    "### Inputs"
   ]
  },
  {
   "cell_type": "code",
   "execution_count": 94,
   "id": "85501286",
   "metadata": {},
   "outputs": [
    {
     "name": "stdout",
     "output_type": "stream",
     "text": [
      "Number of catalyts with all properties: 6102\n"
     ]
    }
   ],
   "source": [
    "q_res = g.query(\"\"\"    \n",
    "    PREFIX bibo: <http://purl.org/ontology/bibo/>\n",
    "    PREFIX dc: <http://purl.org/dc/elements/1.1/>\n",
    "    PREFIX solar: <http://w3id.org/solar/o/core#>\n",
    "    PREFIX solarpc: <http://w3id.org/solar/o/pc#>\n",
    "    PREFIX rdfs: <http://www.w3.org/2000/01/rdf-schema#>\n",
    "    PREFIX qudt: <http://qudt.org/2.1/schema/qudt>\n",
    "\n",
    "    SELECT (COUNT (DISTINCT ?input) AS ?count)\n",
    "    WHERE {\n",
    "        ?input a solar:Input ;\n",
    "            rdfs:label ?label ;\n",
    "            solar:hasRole solar:Catalyst ;\n",
    "            qudt:numericValue ?value ;\n",
    "            qudt:unit ?unit\n",
    "    }\n",
    "\n",
    "\"\"\")\n",
    "\n",
    "for row in q_res:\n",
    "    print(f\"Number of catalyts with all properties: {row['count'].value}\")"
   ]
  },
  {
   "cell_type": "code",
   "execution_count": 107,
   "id": "8d769879",
   "metadata": {},
   "outputs": [
    {
     "name": "stdout",
     "output_type": "stream",
     "text": [
      "Number of co-catalyts with all properties: 3239\n"
     ]
    }
   ],
   "source": [
    "q_res = g.query(\"\"\"    \n",
    "    PREFIX bibo: <http://purl.org/ontology/bibo/>\n",
    "    PREFIX dc: <http://purl.org/dc/elements/1.1/>\n",
    "    PREFIX solar: <http://w3id.org/solar/o/core#>\n",
    "    PREFIX solarpc: <http://w3id.org/solar/o/pc#>\n",
    "    PREFIX rdfs: <http://www.w3.org/2000/01/rdf-schema#>\n",
    "    PREFIX qudt: <http://qudt.org/2.1/schema/qudt>\n",
    "\n",
    "    SELECT (COUNT (DISTINCT ?cocatalyst) AS ?count) \n",
    "    WHERE {\n",
    "        ?cocatalyst a solar:Input ;\n",
    "            rdfs:label ?label ;\n",
    "            solar:hasRole solar:Co-catalyst ;\n",
    "            qudt:floatPercentage ?percent .\n",
    "    }\n",
    "\n",
    "\"\"\")\n",
    "\n",
    "for row in q_res:\n",
    "    print(f\"Number of co-catalyts with all properties: {row['count'].value}\")"
   ]
  },
  {
   "cell_type": "code",
   "execution_count": 112,
   "id": "c5804419",
   "metadata": {},
   "outputs": [
    {
     "name": "stdout",
     "output_type": "stream",
     "text": [
      "Number of supports with all properties: 381\n"
     ]
    }
   ],
   "source": [
    "q_res = g.query(\"\"\"    \n",
    "    PREFIX bibo: <http://purl.org/ontology/bibo/>\n",
    "    PREFIX dc: <http://purl.org/dc/elements/1.1/>\n",
    "    PREFIX solar: <http://w3id.org/solar/o/core#>\n",
    "    PREFIX solarpc: <http://w3id.org/solar/o/pc#>\n",
    "    PREFIX rdfs: <http://www.w3.org/2000/01/rdf-schema#>\n",
    "    PREFIX qudt: <http://qudt.org/2.1/schema/qudt>\n",
    "\n",
    "    SELECT (COUNT (DISTINCT ?support) AS ?count) \n",
    "    WHERE {\n",
    "        ?support a solar:Input ;\n",
    "            rdfs:label ?label ;\n",
    "            solar:hasRole solarpc:Support ;\n",
    "            qudt:floatPercentage ?percent .\n",
    "    }\n",
    "\n",
    "\"\"\")\n",
    "\n",
    "for row in q_res:\n",
    "    print(f\"Number of supports with all properties: {row['count'].value}\")"
   ]
  },
  {
   "cell_type": "code",
   "execution_count": 113,
   "id": "6b05b891",
   "metadata": {},
   "outputs": [
    {
     "name": "stdout",
     "output_type": "stream",
     "text": [
      "Number of dopants with all properties: 766\n"
     ]
    }
   ],
   "source": [
    "q_res = g.query(\"\"\"    \n",
    "    PREFIX bibo: <http://purl.org/ontology/bibo/>\n",
    "    PREFIX dc: <http://purl.org/dc/elements/1.1/>\n",
    "    PREFIX solar: <http://w3id.org/solar/o/core#>\n",
    "    PREFIX solarpc: <http://w3id.org/solar/o/pc#>\n",
    "    PREFIX rdfs: <http://www.w3.org/2000/01/rdf-schema#>\n",
    "    PREFIX qudt: <http://qudt.org/2.1/schema/qudt>\n",
    "\n",
    "    SELECT (COUNT (DISTINCT ?dopant) AS ?count) \n",
    "    WHERE {\n",
    "        ?dopant a solar:Input ;\n",
    "            rdfs:label ?label ;\n",
    "            solar:hasRole solar:Dopant ;\n",
    "            qudt:floatPercentage ?percent .\n",
    "    }\n",
    "\n",
    "\"\"\")\n",
    "\n",
    "for row in q_res:\n",
    "    print(f\"Number of dopants with all properties: {row['count'].value}\")"
   ]
  },
  {
   "cell_type": "code",
   "execution_count": 121,
   "id": "9911a511",
   "metadata": {},
   "outputs": [
    {
     "name": "stdout",
     "output_type": "stream",
     "text": [
      "Number of dyes with all properties: 199\n"
     ]
    }
   ],
   "source": [
    "q_res = g.query(\"\"\"    \n",
    "    PREFIX bibo: <http://purl.org/ontology/bibo/>\n",
    "    PREFIX dc: <http://purl.org/dc/elements/1.1/>\n",
    "    PREFIX solar: <http://w3id.org/solar/o/core#>\n",
    "    PREFIX solarpc: <http://w3id.org/solar/o/pc#>\n",
    "    PREFIX rdfs: <http://www.w3.org/2000/01/rdf-schema#>\n",
    "    PREFIX qudt: <http://qudt.org/2.1/schema/qudt>\n",
    "\n",
    "    SELECT (COUNT (DISTINCT ?dye) AS ?count) \n",
    "    WHERE {\n",
    "        ?dye a solar:Input ;\n",
    "            rdfs:label ?label ;\n",
    "            solar:hasRole solarpc:Dye ;\n",
    "            qudt:floatPercentage ?percent .\n",
    "    }\n",
    "\n",
    "\"\"\")\n",
    "\n",
    "for row in q_res:\n",
    "    print(f\"Number of dyes with all properties: {row['count'].value}\")"
   ]
  },
  {
   "cell_type": "code",
   "execution_count": null,
   "id": "69fa6a90",
   "metadata": {},
   "outputs": [],
   "source": []
  }
 ],
 "metadata": {
  "kernelspec": {
   "display_name": "Python 3 (ipykernel)",
   "language": "python",
   "name": "python3"
  },
  "language_info": {
   "codemirror_mode": {
    "name": "ipython",
    "version": 3
   },
   "file_extension": ".py",
   "mimetype": "text/x-python",
   "name": "python",
   "nbconvert_exporter": "python",
   "pygments_lexer": "ipython3",
   "version": "3.9.16"
  }
 },
 "nbformat": 4,
 "nbformat_minor": 5
}
